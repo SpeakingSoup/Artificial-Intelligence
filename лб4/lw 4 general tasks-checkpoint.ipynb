{
 "cells": [
  {
   "cell_type": "markdown",
   "id": "5c13c13f-50bc-4a8a-a42b-468fec32a4f5",
   "metadata": {},
   "source": [
    "# Лабораторная работа №4\n",
    "\n",
    "Вариант 2\n",
    "\n",
    "## Задание 1\n",
    "Создайте Series из списка чисел [5, 15, 25, 35, 45] с индексами ['a', 'b',\n",
    "'c', 'd', 'e'] . Выведите его на экран и определите его тип данных."
   ]
  },
  {
   "cell_type": "code",
   "execution_count": 3,
   "id": "a8258ad2-f721-4dc4-9d87-37f7f31e43f6",
   "metadata": {},
   "outputs": [
    {
     "name": "stdout",
     "output_type": "stream",
     "text": [
      "a     5\n",
      "b    15\n",
      "c    25\n",
      "d    35\n",
      "e    45\n",
      "dtype: int64\n"
     ]
    }
   ],
   "source": [
    "import pandas as pd\n",
    "arr1 = pd.Series([5, 15, 25, 35, 45], index = ['a', 'b', 'c', 'd', 'e'])\n",
    "print(arr1)"
   ]
  },
  {
   "cell_type": "markdown",
   "id": "8c9235a1-4283-4492-9b61-5e7c8778f750",
   "metadata": {},
   "source": [
    "## Задание 2\n",
    "Дан Series с индексами ['A', 'B', 'C', 'D', 'E'] и значениями [12, 24, 36,\n",
    "48, 60] . Используйте .loc[] для получения элемента с индексом 'C' и\n",
    ".iloc[] для получения третьего элемента."
   ]
  },
  {
   "cell_type": "code",
   "execution_count": 24,
   "id": "22d9b0d1-7a61-4a53-9cda-a80c0735be1a",
   "metadata": {},
   "outputs": [
    {
     "name": "stdout",
     "output_type": "stream",
     "text": [
      "Элемент с индексом 'C':  36\n",
      "Третьего элемента:  36\n"
     ]
    }
   ],
   "source": [
    "s = pd.Series([12, 24, 36, 48, 60], index = ['A', 'B', 'C', 'D', 'E'])\n",
    "print(\"Элемент с индексом 'C': \", s.loc['C'])\n",
    "print(\"Третьего элемента: \", s.iloc[2])"
   ]
  },
  {
   "cell_type": "markdown",
   "id": "bb9a94ad-288c-4d6a-9b78-b4ba94f02645",
   "metadata": {},
   "source": [
    "## Задание 3\n",
    "Создайте Series из массива NumPy np.array([4, 9, 16, 25, 36, 49, 64]) .\n",
    "Выберите только те элементы, которые больше 20, и выведите результат."
   ]
  },
  {
   "cell_type": "code",
   "execution_count": 27,
   "id": "f2d9bc36-d570-4cfb-b755-2f12d36c92f1",
   "metadata": {},
   "outputs": [
    {
     "name": "stdout",
     "output_type": "stream",
     "text": [
      "[False False False  True  True  True  True]\n"
     ]
    }
   ],
   "source": [
    "import numpy as np\n",
    "arr = np.array([4, 9, 16, 25, 36, 49, 64])\n",
    "print(arr > 20)"
   ]
  },
  {
   "cell_type": "markdown",
   "id": "517096fc-da1a-46f7-aaf4-0e6f2b6e18df",
   "metadata": {},
   "source": [
    "## Задание 4\n",
    "Создайте Series , содержащий 50 случайных целых чисел от 1 до 100\n",
    "(используйте np.random.randint ). Выведите первые 7 и последние 5 элементов с\n",
    "помощью .head() и .tail()."
   ]
  },
  {
   "cell_type": "code",
   "execution_count": 36,
   "id": "072a3702-c6cc-4687-87fc-dc742a37604a",
   "metadata": {},
   "outputs": [
    {
     "name": "stdout",
     "output_type": "stream",
     "text": [
      "Созданный Series: \n",
      " 0     54\n",
      "1     60\n",
      "2     75\n",
      "3     98\n",
      "4     97\n",
      "5     87\n",
      "6     36\n",
      "7     10\n",
      "8     82\n",
      "9     48\n",
      "10    79\n",
      "11     9\n",
      "12    80\n",
      "13    41\n",
      "14    60\n",
      "15    68\n",
      "16    74\n",
      "17    21\n",
      "18    98\n",
      "19     3\n",
      "20    88\n",
      "21     1\n",
      "22     7\n",
      "23    64\n",
      "24    46\n",
      "25    72\n",
      "26    75\n",
      "27    31\n",
      "28    65\n",
      "29    24\n",
      "30    37\n",
      "31    21\n",
      "32    60\n",
      "33    77\n",
      "34    54\n",
      "35    44\n",
      "36    79\n",
      "37    42\n",
      "38    27\n",
      "39    83\n",
      "40    11\n",
      "41     6\n",
      "42    16\n",
      "43    63\n",
      "44    84\n",
      "45    92\n",
      "46    56\n",
      "47    64\n",
      "48    39\n",
      "49    82\n",
      "dtype: int32\n",
      "Первые 7 элементов: \n",
      " 0    54\n",
      "1    60\n",
      "2    75\n",
      "3    98\n",
      "4    97\n",
      "5    87\n",
      "6    36\n",
      "dtype: int32\n",
      "Последние 5 элементов: \n",
      " 45    92\n",
      "46    56\n",
      "47    64\n",
      "48    39\n",
      "49    82\n",
      "dtype: int32\n"
     ]
    }
   ],
   "source": [
    "s = pd.Series(np.random.randint(1, 101, 50))\n",
    "print(\"Созданный Series:\", \"\\n\", s)\n",
    "print(\"Первые 7 элементов:\",\"\\n\", s.head(7))\n",
    "print(\"Последние 5 элементов:\",\"\\n\", s.tail(5))"
   ]
  },
  {
   "cell_type": "markdown",
   "id": "c1e800e1-e66e-4b66-94cf-36716fd5336f",
   "metadata": {},
   "source": [
    "## Задание 5\n",
    "Создайте Series из списка ['cat', 'dog', 'rabbit', 'parrot', 'fish'] .\n",
    "Определите тип данных с помощью .dtype , затем преобразуйте его в category с\n",
    "помощью .astype()."
   ]
  },
  {
   "cell_type": "code",
   "execution_count": 8,
   "id": "80aee5f3-27b9-4ce9-a093-f46c5ede464b",
   "metadata": {},
   "outputs": [
    {
     "name": "stdout",
     "output_type": "stream",
     "text": [
      "object\n",
      "category\n"
     ]
    }
   ],
   "source": [
    "animals = pd.Series( ['cat', 'dog', 'rabbit', 'parrot', 'fish'])\n",
    "print(animals.dtype)\n",
    "animals = animals.astype('category')\n",
    "print(animals.dtype)"
   ]
  },
  {
   "cell_type": "markdown",
   "id": "947202ba-6dad-4893-843e-997981100b04",
   "metadata": {},
   "source": [
    "## Задание 6\n",
    "\n",
    "Создайте Series с данными [1.2, np.nan, 3.4, np.nan, 5.6, 6.8] . Напишите\n",
    "код, который проверяет, есть ли в Series пропущенные значения ( NaN ), и\n",
    "выведите индексы таких элементов."
   ]
  },
  {
   "cell_type": "code",
   "execution_count": 23,
   "id": "f4b96726-ef4b-48ce-a948-7f3b63327c21",
   "metadata": {},
   "outputs": [
    {
     "name": "stdout",
     "output_type": "stream",
     "text": [
      "1    NaN\n",
      "3    NaN\n",
      "0    1.2\n",
      "2    3.4\n",
      "4    5.6\n",
      "5    6.8\n",
      "dtype: float64\n"
     ]
    }
   ],
   "source": [
    "import numpy as np\n",
    "arr = pd.Series([1.2, np.nan, 3.4, np.nan, 5.6, 6.8])\n",
    "print(arr.sort_values(na_position=\"first\"))"
   ]
  },
  {
   "cell_type": "markdown",
   "id": "d4160d7f-0eb3-48ba-8ccf-11c7b7926f6f",
   "metadata": {},
   "source": [
    "## Задание 7\n",
    "\n",
    "Используйте Series из предыдущего задания и замените все NaN на среднее\n",
    "значение всех непустых элементов. Выведите результат."
   ]
  },
  {
   "cell_type": "code",
   "execution_count": 16,
   "id": "be0be14c-9a51-471c-a99e-f577c920c574",
   "metadata": {},
   "outputs": [
    {
     "name": "stdout",
     "output_type": "stream",
     "text": [
      "0    1.20\n",
      "1    4.25\n",
      "2    3.40\n",
      "3    4.25\n",
      "4    5.60\n",
      "5    6.80\n",
      "dtype: float64\n"
     ]
    }
   ],
   "source": [
    "arr = pd.Series([1.2, np.nan, 3.4, np.nan, 5.6, 6.8])\n",
    "mean = arr.mean()\n",
    "arr_mean = arr.fillna(mean)\n",
    "print(arr_mean)"
   ]
  },
  {
   "cell_type": "markdown",
   "id": "8ffa704e-c50b-417d-a0f3-62f656f42e2e",
   "metadata": {},
   "source": [
    "## Задание 8\n",
    "Создайте два Series:\n",
    "- s1 = pd.Series([10, 20, 30, 40], index=['a', 'b', 'c', 'd'])\n",
    "- s2 = pd.Series([5, 15, 25, 35], index=['b', 'c', 'd', 'e'])\n",
    "\n",
    "Выполните сложение s1 + s2. Объясните, почему в результате появляются\n",
    "NaN , и замените их на 0."
   ]
  },
  {
   "cell_type": "code",
   "execution_count": 22,
   "id": "39e3eab9-ebf4-47ee-81ca-6558dcfb82db",
   "metadata": {},
   "outputs": [
    {
     "name": "stdout",
     "output_type": "stream",
     "text": [
      "a     NaN\n",
      "b    25.0\n",
      "c    45.0\n",
      "d    65.0\n",
      "e     NaN\n",
      "dtype: float64\n",
      "Операция s1 + s2 выполняется по индексам. Если указанный индекс существует только в одном Series, то результат при сложении будет NaN.\n",
      "a     0.0\n",
      "b    25.0\n",
      "c    45.0\n",
      "d    65.0\n",
      "e     0.0\n",
      "dtype: float64\n"
     ]
    }
   ],
   "source": [
    "s1 = pd.Series([10, 20, 30, 40], index=['a', 'b', 'c', 'd'])\n",
    "s2 = pd.Series([5, 15, 25, 35], index=['b', 'c', 'd', 'e'])\n",
    "print(s1 + s2)\n",
    "print(\"Операция s1 + s2 выполняется по индексам. Если указанный индекс существует только в одном Series, то результат при сложении будет NaN.\")\n",
    "s3 = s1 + s2\n",
    "s3 = s3.fillna(0)\n",
    "print(s3)"
   ]
  },
  {
   "cell_type": "markdown",
   "id": "2af4979f-d86a-4fd7-82b0-6d7305cc9f1f",
   "metadata": {},
   "source": [
    "## Задание 9\n",
    "Создайте Series из чисел [2, 4, 6, 8, 10]. Напишите код, который применяет к каждому элементу функцию вычисления квадратного корня с помощью .apply(np.sqrt)."
   ]
  },
  {
   "cell_type": "code",
   "execution_count": 27,
   "id": "f3a68b58-d912-4298-a8a9-cecb1066c448",
   "metadata": {},
   "outputs": [
    {
     "name": "stdout",
     "output_type": "stream",
     "text": [
      "0    1.414214\n",
      "1    2.000000\n",
      "2    2.449490\n",
      "3    2.828427\n",
      "4    3.162278\n",
      "dtype: float64\n"
     ]
    }
   ],
   "source": [
    "arr = pd.Series([2, 4, 6, 8, 10])\n",
    "arr = arr.apply(np.sqrt)\n",
    "print(arr)"
   ]
  },
  {
   "cell_type": "markdown",
   "id": "61a5e854-73c2-4d4f-beb7-103fb94f6a2b",
   "metadata": {},
   "source": [
    "## Задание 10\n",
    "Создайте Series из 20 случайных чисел от 50 до 150 (используйте np.random.randint). Найдите сумму, среднее, минимальное и максимальное значение. Выведите также стандартное отклонение."
   ]
  },
  {
   "cell_type": "code",
   "execution_count": 40,
   "id": "3a1264b5-869b-4c3b-93f5-a0df9231fd71",
   "metadata": {},
   "outputs": [
    {
     "name": "stdout",
     "output_type": "stream",
     "text": [
      "0      59\n",
      "1      91\n",
      "2      66\n",
      "3      57\n",
      "4      91\n",
      "5     109\n",
      "6      85\n",
      "7     140\n",
      "8      66\n",
      "9      96\n",
      "10     56\n",
      "11     70\n",
      "12    101\n",
      "13    147\n",
      "14     51\n",
      "15    136\n",
      "16     56\n",
      "17    134\n",
      "18     52\n",
      "19    111\n",
      "dtype: int32\n",
      "Сумма: 1774\n",
      "Среднее значение: 88.7\n",
      "Мнимальное значение: 51\n",
      "Максимальное значение: 147\n",
      "Стандартное отклонение: 32.14457472436875\n"
     ]
    }
   ],
   "source": [
    "array = pd.Series(np.random.randint(50, 151, 20))\n",
    "print(array)\n",
    "summ = array.sum()\n",
    "print(\"Сумма:\", summ)\n",
    "mean = array.mean()\n",
    "print(\"Среднее значение:\", mean)\n",
    "min_n = array.min()\n",
    "print(\"Мнимальное значение:\", min_n)\n",
    "max_n = array.max()\n",
    "print(\"Максимальное значение:\", max_n)\n",
    "std = array.std()\n",
    "print(\"Стандартное отклонение:\", std)"
   ]
  },
  {
   "cell_type": "markdown",
   "id": "8bb85a73-121f-4564-9939-da759b117c59",
   "metadata": {},
   "source": [
    "## Задание 11\n",
    "Создайте Series, где индексами будут даты с 1 по 10 марта 2024 года (pd.date_range(start='2024-03-01', periods=10, freq='D')), а значениями – случайные числа от 10 до 100. Выберите данные за 5–8 марта."
   ]
  },
  {
   "cell_type": "code",
   "execution_count": 50,
   "id": "ddb01089-6247-4ed3-824b-81baaadaf13f",
   "metadata": {},
   "outputs": [
    {
     "name": "stdout",
     "output_type": "stream",
     "text": [
      "2024-03-01    72\n",
      "2024-03-02    76\n",
      "2024-03-03    74\n",
      "2024-03-04    31\n",
      "2024-03-05    98\n",
      "2024-03-06    50\n",
      "2024-03-07    38\n",
      "2024-03-08    39\n",
      "2024-03-09    23\n",
      "2024-03-10    88\n",
      "Freq: D, dtype: int32\n",
      "Данные с 5 по 8 марта:\n",
      " 2024-03-05    98\n",
      "2024-03-06    50\n",
      "2024-03-07    38\n",
      "2024-03-08    39\n",
      "Freq: D, dtype: int32\n"
     ]
    }
   ],
   "source": [
    "dates = pd.Series(np.random.randint(10, 101, 10), index = pd.date_range(start='2024-03-01', periods=10, freq='D'))\n",
    "print (dates)\n",
    "s = dates.loc['2024-03-05':'2024-03-08']\n",
    "print(\"Данные с 5 по 8 марта:\\n\", s)"
   ]
  },
  {
   "cell_type": "markdown",
   "id": "f296cdc5-78ad-49bd-a146-de395d7fd987",
   "metadata": {},
   "source": [
    "## Задание 12\n",
    "Создайте Series с индексами ['A', 'B', 'A', 'C', 'D', 'B'] и значениями [10, 20, 30, 40, 50, 60]. Проверьте, являются ли индексы уникальными. Если нет, сгруппируйте повторяющиеся индексы и сложите их значения."
   ]
  },
  {
   "cell_type": "code",
   "execution_count": 60,
   "id": "cb427ad3-b1f9-4ec6-8a80-fb4955346568",
   "metadata": {},
   "outputs": [
    {
     "name": "stdout",
     "output_type": "stream",
     "text": [
      "False\n",
      "A    40\n",
      "B    80\n",
      "C    40\n",
      "D    50\n",
      "dtype: int64\n"
     ]
    }
   ],
   "source": [
    "array = pd.Series([10, 20, 30, 40, 50, 60], index = ['A', 'B', 'A', 'C', 'D', 'B'])\n",
    "print(array.index.is_unique)\n",
    "print(array.groupby(level=0).sum())"
   ]
  },
  {
   "cell_type": "markdown",
   "id": "a4db6570-74cf-4739-9b73-b50b0c17722a",
   "metadata": {},
   "source": [
    "## Задание 13\n",
    "Создайте Series, где индексами будут строки ['2024-03-10', '2024-03-11', '2024-03-12'], а значениями [100, 200, 300]. Преобразуйте индексы в DatetimeIndex и выведите тип данных индекса. "
   ]
  },
  {
   "cell_type": "code",
   "execution_count": 7,
   "id": "b16b7df8-b807-485f-bb84-91cad456b63c",
   "metadata": {},
   "outputs": [
    {
     "name": "stdout",
     "output_type": "stream",
     "text": [
      "<class 'pandas.core.indexes.datetimes.DatetimeIndex'>\n"
     ]
    }
   ],
   "source": [
    "dates = pd.Series([100, 200, 300], index = ['2024-03-10', '2024-03-11', '2024-03-12'])\n",
    "dates.index = pd.to_datetime(dates.index)\n",
    "print(type(dates.index))"
   ]
  },
  {
   "cell_type": "markdown",
   "id": "bf0c8b64-725f-47e0-9bbb-4af88df941f3",
   "metadata": {},
   "source": [
    "## Задание 14\n",
    "Создайте CSV-файл data.csv со следующими данными:\n",
    "\n",
    "Дата, цена\n",
    "\n",
    "2024-03-01,100\n",
    "\n",
    "2024-03-02,110\n",
    "\n",
    "2024-03-03,105\n",
    "\n",
    "2024-03-04,120\n",
    "\n",
    "2024-03-05,115\n",
    "\n",
    "Прочитайте файл и создайте Series, используя \"Дата\" в качестве индекса."
   ]
  },
  {
   "cell_type": "code",
   "execution_count": 19,
   "id": "d8c0c436-fd64-4697-b15e-532bb5302fb5",
   "metadata": {},
   "outputs": [
    {
     "name": "stdout",
     "output_type": "stream",
     "text": [
      "0    100\n",
      "1    110\n",
      "2    105\n",
      "3    120\n",
      "4    115\n",
      "Name: Цена, dtype: int64\n"
     ]
    }
   ],
   "source": [
    "df = pd.read_excel(\"data.xlsx\", sheet_name=\"Лист1\")\n",
    "s = df[\"Цена\"]\n",
    "print(s)"
   ]
  },
  {
   "cell_type": "markdown",
   "id": "55fc0f5e-8d9a-4d9c-b81b-e40191fbc8e6",
   "metadata": {},
   "source": [
    "## Задание 15\n",
    "Создайте Series , где индексами будут даты с 1 по 30 марта 2024 года, а значениями – случайные числа от 50 до 150. Постройте график значений с помощью matplotlib . Добавьте заголовок, подписи осей и сетку."
   ]
  },
  {
   "cell_type": "code",
   "execution_count": 25,
   "id": "a02127fe-5a40-456a-a115-b0704fb84152",
   "metadata": {},
   "outputs": [
    {
     "data": {
      "image/png": "[encoded data removed]",
      "text/plain": [
       "<Figure size 640x480 with 1 Axes>"
      ]
     },
     "metadata": {},
     "output_type": "display_data"
    }
   ],
   "source": [
    "import matplotlib.pyplot as plt\n",
    "dates = pd.date_range(start='2024-03-01', end='2024-03-30')\n",
    "values = pd.Series(np.random.randint(50, 151, len(dates)), index=dates)\n",
    "values.plot()\n",
    "plt.title(\"Значения по дням в марте 2024 года\")\n",
    "plt.xlabel(\"Дата\")\n",
    "plt.ylabel(\"Значение\")\n",
    "plt.grid(True)"
   ]
  },
  {
   "cell_type": "code",
   "execution_count": null,
   "id": "f1dec3a3-3e07-4fcd-86dd-6d20cd68fdb9",
   "metadata": {},
   "outputs": [],
   "source": []
  }
 ],
 "metadata": {
  "kernelspec": {
   "display_name": "Python 3 (ipykernel)",
   "language": "python",
   "name": "python3"
  },
  "language_info": {
   "codemirror_mode": {
    "name": "ipython",
    "version": 3
   },
   "file_extension": ".py",
   "mimetype": "text/x-python",
   "name": "python",
   "nbconvert_exporter": "python",
   "pygments_lexer": "ipython3",
   "version": "3.12.7"
  }
 },
 "nbformat": 4,
 "nbformat_minor": 5
}
